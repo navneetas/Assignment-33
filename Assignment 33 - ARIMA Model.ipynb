{
 "cells": [
  {
   "cell_type": "code",
   "execution_count": 2,
   "metadata": {},
   "outputs": [
    {
     "name": "stderr",
     "output_type": "stream",
     "text": [
      "C:\\Users\\navne\\Anaconda3\\lib\\site-packages\\statsmodels\\compat\\pandas.py:56: FutureWarning: The pandas.core.datetools module is deprecated and will be removed in a future version. Please use the pandas.tseries module instead.\n",
      "  from pandas.core import datetools\n"
     ]
    }
   ],
   "source": [
    "import pandas as pd\n",
    "from pandas import datetime\n",
    "from matplotlib import pyplot\n",
    "from statsmodels.tsa.arima_model import ARIMA\n",
    "from sklearn.metrics import mean_squared_error"
   ]
  },
  {
   "cell_type": "code",
   "execution_count": 3,
   "metadata": {},
   "outputs": [],
   "source": [
    "def parser(x):\n",
    "    return datetime.strptime('190'+x, '%Y-%m')\n",
    "\n",
    "series = pd.read_csv(r'C:\\Users\\navne\\Documents\\Python Scripts\\Data\\shampoo sales.csv', header=0, parse_dates=True, index_col='Month')\n"
   ]
  },
  {
   "cell_type": "code",
   "execution_count": 4,
   "metadata": {},
   "outputs": [
    {
     "data": {
      "text/html": [
       "<div>\n",
       "<style scoped>\n",
       "    .dataframe tbody tr th:only-of-type {\n",
       "        vertical-align: middle;\n",
       "    }\n",
       "\n",
       "    .dataframe tbody tr th {\n",
       "        vertical-align: top;\n",
       "    }\n",
       "\n",
       "    .dataframe thead th {\n",
       "        text-align: right;\n",
       "    }\n",
       "</style>\n",
       "<table border=\"1\" class=\"dataframe\">\n",
       "  <thead>\n",
       "    <tr style=\"text-align: right;\">\n",
       "      <th></th>\n",
       "      <th>Sales of shampoo</th>\n",
       "    </tr>\n",
       "    <tr>\n",
       "      <th>Month</th>\n",
       "      <th></th>\n",
       "    </tr>\n",
       "  </thead>\n",
       "  <tbody>\n",
       "    <tr>\n",
       "      <th>2018-01-01</th>\n",
       "      <td>266.0</td>\n",
       "    </tr>\n",
       "    <tr>\n",
       "      <th>2018-01-02</th>\n",
       "      <td>145.9</td>\n",
       "    </tr>\n",
       "    <tr>\n",
       "      <th>2018-01-03</th>\n",
       "      <td>183.1</td>\n",
       "    </tr>\n",
       "    <tr>\n",
       "      <th>2018-01-04</th>\n",
       "      <td>119.3</td>\n",
       "    </tr>\n",
       "    <tr>\n",
       "      <th>2018-01-05</th>\n",
       "      <td>180.3</td>\n",
       "    </tr>\n",
       "  </tbody>\n",
       "</table>\n",
       "</div>"
      ],
      "text/plain": [
       "            Sales of shampoo \n",
       "Month                        \n",
       "2018-01-01              266.0\n",
       "2018-01-02              145.9\n",
       "2018-01-03              183.1\n",
       "2018-01-04              119.3\n",
       "2018-01-05              180.3"
      ]
     },
     "execution_count": 4,
     "metadata": {},
     "output_type": "execute_result"
    }
   ],
   "source": [
    "series.head()"
   ]
  },
  {
   "cell_type": "code",
   "execution_count": 5,
   "metadata": {},
   "outputs": [
    {
     "data": {
      "image/png": "[encoded data removed]",
      "text/plain": [
       "<matplotlib.figure.Figure at 0x250115e0ac8>"
      ]
     },
     "metadata": {},
     "output_type": "display_data"
    }
   ],
   "source": [
    "# plotting the data as a time series \n",
    "series.plot()\n",
    "pyplot.show()"
   ]
  },
  {
   "cell_type": "markdown",
   "metadata": {},
   "source": [
    "From here we can see that Shampoo sales data has a clear trend, that means time series is not stationary and will require differencing to make it stationary."
   ]
  },
  {
   "cell_type": "code",
   "execution_count": 6,
   "metadata": {},
   "outputs": [
    {
     "name": "stderr",
     "output_type": "stream",
     "text": [
      "C:\\Users\\navne\\Anaconda3\\lib\\site-packages\\statsmodels\\tsa\\kalmanf\\kalmanfilter.py:646: FutureWarning: Conversion of the second argument of issubdtype from `float` to `np.floating` is deprecated. In future, it will be treated as `np.float64 == np.dtype(float).type`.\n",
      "  if issubdtype(paramsdtype, float):\n",
      "C:\\Users\\navne\\Anaconda3\\lib\\site-packages\\statsmodels\\tsa\\kalmanf\\kalmanfilter.py:650: FutureWarning: Conversion of the second argument of issubdtype from `complex` to `np.complexfloating` is deprecated. In future, it will be treated as `np.complex128 == np.dtype(complex).type`.\n",
      "  elif issubdtype(paramsdtype, complex):\n"
     ]
    },
    {
     "name": "stdout",
     "output_type": "stream",
     "text": [
      "                              ARIMA Model Results                              \n",
      "===============================================================================\n",
      "Dep. Variable:     D.Sales of shampoo    No. Observations:                   35\n",
      "Model:                  ARIMA(5, 1, 0)   Log Likelihood                -196.170\n",
      "Method:                        css-mle   S.D. of innovations             64.241\n",
      "Date:                 Wed, 31 Oct 2018   AIC                            406.340\n",
      "Time:                         17:28:48   BIC                            417.227\n",
      "Sample:                     01-02-2018   HQIC                           410.098\n",
      "                          - 03-12-2018                                         \n",
      "=============================================================================================\n",
      "                                coef    std err          z      P>|z|      [0.025      0.975]\n",
      "---------------------------------------------------------------------------------------------\n",
      "const                        12.0649      3.652      3.304      0.003       4.908      19.222\n",
      "ar.L1.D.Sales of shampoo     -1.1082      0.183     -6.063      0.000      -1.466      -0.750\n",
      "ar.L2.D.Sales of shampoo     -0.6203      0.282     -2.203      0.036      -1.172      -0.068\n",
      "ar.L3.D.Sales of shampoo     -0.3606      0.295     -1.222      0.231      -0.939       0.218\n",
      "ar.L4.D.Sales of shampoo     -0.1252      0.280     -0.447      0.658      -0.674       0.424\n",
      "ar.L5.D.Sales of shampoo      0.1289      0.191      0.673      0.506      -0.246       0.504\n",
      "                                    Roots                                    \n",
      "=============================================================================\n",
      "                 Real           Imaginary           Modulus         Frequency\n",
      "-----------------------------------------------------------------------------\n",
      "AR.1           -1.0617           -0.5064j            1.1763           -0.4292\n",
      "AR.2           -1.0617           +0.5064j            1.1763            0.4292\n",
      "AR.3            0.0816           -1.3804j            1.3828           -0.2406\n",
      "AR.4            0.0816           +1.3804j            1.3828            0.2406\n",
      "AR.5            2.9315           -0.0000j            2.9315           -0.0000\n",
      "-----------------------------------------------------------------------------\n"
     ]
    }
   ],
   "source": [
    "# fit model\n",
    "model = ARIMA(series, order=(5,1,0))\n",
    "model_fit = model.fit(disp=0)\n",
    "print(model_fit.summary())"
   ]
  },
  {
   "cell_type": "markdown",
   "metadata": {},
   "source": [
    "Now we will do rolling forecast with the ARIMA model by spliting the training dataset into train and test sets, use the train set to fit the model, and generate a prediction for each element on the test set."
   ]
  },
  {
   "cell_type": "code",
   "execution_count": 7,
   "metadata": {},
   "outputs": [
    {
     "data": {
      "text/plain": [
       "array([[266. ],\n",
       "       [145.9],\n",
       "       [183.1],\n",
       "       [119.3],\n",
       "       [180.3],\n",
       "       [168.5],\n",
       "       [231.8],\n",
       "       [224.5],\n",
       "       [192.8],\n",
       "       [122.9],\n",
       "       [336.5],\n",
       "       [185.9],\n",
       "       [194.3],\n",
       "       [149.5],\n",
       "       [210.1],\n",
       "       [273.3],\n",
       "       [191.4],\n",
       "       [287. ],\n",
       "       [226. ],\n",
       "       [303.6],\n",
       "       [289.9],\n",
       "       [421.6],\n",
       "       [264.5],\n",
       "       [342.3],\n",
       "       [339.7],\n",
       "       [440.4],\n",
       "       [315.9],\n",
       "       [439.3],\n",
       "       [401.3],\n",
       "       [437.4],\n",
       "       [575.5],\n",
       "       [407.6],\n",
       "       [682. ],\n",
       "       [475.3],\n",
       "       [581.3],\n",
       "       [646.9]])"
      ]
     },
     "execution_count": 7,
     "metadata": {},
     "output_type": "execute_result"
    }
   ],
   "source": [
    "#Converting the data into numpy array\n",
    "X = series.values\n",
    "X"
   ]
  },
  {
   "cell_type": "code",
   "execution_count": 11,
   "metadata": {},
   "outputs": [
    {
     "name": "stdout",
     "output_type": "stream",
     "text": [
      "36\n",
      "21\n"
     ]
    }
   ],
   "source": [
    "size = int(len(X) * 0.60)\n",
    "print(len(X))\n",
    "print(size)"
   ]
  },
  {
   "cell_type": "code",
   "execution_count": 12,
   "metadata": {},
   "outputs": [],
   "source": [
    "train, test = X[0:size], X[size:len(X)]"
   ]
  },
  {
   "cell_type": "code",
   "execution_count": 13,
   "metadata": {},
   "outputs": [
    {
     "name": "stderr",
     "output_type": "stream",
     "text": [
      "C:\\Users\\navne\\Anaconda3\\lib\\site-packages\\statsmodels\\tsa\\kalmanf\\kalmanfilter.py:646: FutureWarning: Conversion of the second argument of issubdtype from `float` to `np.floating` is deprecated. In future, it will be treated as `np.float64 == np.dtype(float).type`.\n",
      "  if issubdtype(paramsdtype, float):\n",
      "C:\\Users\\navne\\Anaconda3\\lib\\site-packages\\statsmodels\\tsa\\kalmanf\\kalmanfilter.py:650: FutureWarning: Conversion of the second argument of issubdtype from `complex` to `np.complexfloating` is deprecated. In future, it will be treated as `np.complex128 == np.dtype(complex).type`.\n",
      "  elif issubdtype(paramsdtype, complex):\n",
      "C:\\Users\\navne\\Anaconda3\\lib\\site-packages\\statsmodels\\tsa\\kalmanf\\kalmanfilter.py:577: FutureWarning: Conversion of the second argument of issubdtype from `float` to `np.floating` is deprecated. In future, it will be treated as `np.float64 == np.dtype(float).type`.\n",
      "  if issubdtype(paramsdtype, float):\n"
     ]
    },
    {
     "name": "stdout",
     "output_type": "stream",
     "text": [
      "predicted=272.964563, expected=421.600000\n",
      "predicted=290.313829, expected=264.500000\n",
      "predicted=349.117655, expected=342.300000\n",
      "predicted=306.512990, expected=339.700000\n",
      "predicted=387.376446, expected=440.400000\n",
      "predicted=348.154155, expected=315.900000\n",
      "predicted=386.308817, expected=439.300000\n",
      "predicted=356.082038, expected=401.300000\n",
      "predicted=446.379489, expected=437.400000\n",
      "predicted=394.737292, expected=575.500000\n",
      "predicted=434.915464, expected=407.600000\n",
      "predicted=507.923411, expected=682.000000\n",
      "predicted=435.482839, expected=475.300000\n",
      "predicted=652.743773, expected=581.300000\n",
      "predicted=546.343456, expected=646.900000\n",
      "Test MSE: 7547.805\n"
     ]
    }
   ],
   "source": [
    "hist = [x for x in train]\n",
    "predictions = list()\n",
    "for t in range(len(test)):\n",
    "    model = ARIMA(hist, order=(5,1,0))\n",
    "    model_fit = model.fit(disp=0)\n",
    "    output = model_fit.forecast()\n",
    "    yhat = output[0]\n",
    "    predictions.append(yhat)\n",
    "    obs = test[t]\n",
    "    hist.append(obs)\n",
    "    print('predicted=%f, expected=%f' % (yhat, obs))\n",
    "    \n",
    "# MSE\n",
    "error = mean_squared_error(test, predictions)\n",
    "print('Test MSE: %.3f' % error)"
   ]
  },
  {
   "cell_type": "code",
   "execution_count": 14,
   "metadata": {},
   "outputs": [
    {
     "data": {
      "image/png": "[encoded data removed]",
      "text/plain": [
       "<matplotlib.figure.Figure at 0x25012c6ee80>"
      ]
     },
     "metadata": {},
     "output_type": "display_data"
    }
   ],
   "source": [
    "# plot showing the expected values (blue) compared to the rolling forecast predictions (red). \n",
    "pyplot.plot(test)\n",
    "pyplot.plot(predictions, color='red')\n",
    "pyplot.show()"
   ]
  },
  {
   "cell_type": "markdown",
   "metadata": {},
   "source": [
    "We can see the values show some trend and are in the correct scale."
   ]
  },
  {
   "cell_type": "code",
   "execution_count": null,
   "metadata": {},
   "outputs": [],
   "source": []
  }
 ],
 "metadata": {
  "kernelspec": {
   "display_name": "Python 3",
   "language": "python",
   "name": "python3"
  },
  "language_info": {
   "codemirror_mode": {
    "name": "ipython",
    "version": 3
   },
   "file_extension": ".py",
   "mimetype": "text/x-python",
   "name": "python",
   "nbconvert_exporter": "python",
   "pygments_lexer": "ipython3",
   "version": "3.6.4"
  }
 },
 "nbformat": 4,
 "nbformat_minor": 2
}
